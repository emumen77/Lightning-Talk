{
 "cells": [
  {
   "cell_type": "markdown",
   "metadata": {},
   "source": [
    "Sample Machine Learning Pipeline for Demonstration"
   ]
  },
  {
   "cell_type": "code",
   "execution_count": 2,
   "metadata": {},
   "outputs": [],
   "source": [
    "#Import the necessary packages\n",
    "import pandas as pd\n",
    "from sklearn.preprocessing import MinMaxScaler\n",
    "from sklearn.decomposition import PCA #To optimize the pre-processing process. Running multiple pre-processing steps on the data.\n",
    "from sklearn.pipeline import Pipeline\n",
    "\n",
    "from plotnine import *\n",
    "\n",
    "# Modeling packages\n",
    "from sklearn.model_selection import train_test_split\n",
    "from sklearn.preprocessing import OneHotEncoder\n",
    "from sklearn.linear_model import LogisticRegression\n",
    "from sklearn.linear_model import LogisticRegressionCV\n",
    "from sklearn.metrics import roc_auc_score, plot_roc_curve\n",
    "from sklearn.tree import DecisionTreeClassifier\n",
    "from sklearn.ensemble import RandomForestClassifier"
   ]
  },
  {
   "cell_type": "code",
   "execution_count": null,
   "metadata": {},
   "outputs": [],
   "source": [
    "#Alternative scenario. Creating pipelines for logistic regression, decison tree, and random forest models.\n",
    "#1. Data preprocessing with MinMax scaler\n",
    "#2. Reducing dimensionality using PCA.\n",
    "#3. Training the models."
   ]
  },
  {
   "cell_type": "markdown",
   "metadata": {},
   "source": [
    "Sample Pipeline"
   ]
  },
  {
   "cell_type": "code",
   "execution_count": 13,
   "metadata": {},
   "outputs": [],
   "source": [
    "#Logistic Regression Pipeline\n",
    "LogisticRegressionPipeline=Pipeline([('myscaler', MinMaxScaler()),\n",
    "('mypca', PCA(n_components=3)),\n",
    "('logistic_classifier', LogisticRegression())])"
   ]
  },
  {
   "cell_type": "code",
   "execution_count": 15,
   "metadata": {},
   "outputs": [],
   "source": [
    "#Decision Tree Pipeline\n",
    "DecisionTreePipeline=Pipeline([('myscaler', MinMaxScaler()),\n",
    "('mypca', PCA(n_components=3)),\n",
    "('decisiontree_classifier', LogisticRegression())])"
   ]
  },
  {
   "cell_type": "code",
   "execution_count": 16,
   "metadata": {},
   "outputs": [],
   "source": [
    "#Random Forest Pipeline\n",
    "RandomForestPipeline=Pipeline([('myscaler', MinMaxScaler()),\n",
    "('mypca', PCA(n_components=3)),\n",
    "('logistic_classifier', LogisticRegression())])"
   ]
  },
  {
   "cell_type": "markdown",
   "metadata": {},
   "source": [
    "Model Training and Validation"
   ]
  },
  {
   "cell_type": "code",
   "execution_count": 17,
   "metadata": {},
   "outputs": [],
   "source": [
    "#Appending the pipelines in a list\n",
    "pipe = [LogisticRegressionPipeline, DecisionTreePipeline, RandomForestPipeline]"
   ]
  },
  {
   "cell_type": "code",
   "execution_count": 14,
   "metadata": {},
   "outputs": [],
   "source": [
    "#This is to find the most suitable model later on.\n",
    "accuracy=0.0\n",
    "classifier=0\n",
    "pipeline=\"\""
   ]
  },
  {
   "cell_type": "code",
   "execution_count": null,
   "metadata": {},
   "outputs": [],
   "source": [
    "#Checking for test accuracy\n",
    "for i,model in enumerate(pipe):\n",
    "    print(\"() Test Accuracy: ()\".fotmat(PipelineDict[i], model.score(X_test, y_test)))"
   ]
  },
  {
   "cell_type": "code",
   "execution_count": null,
   "metadata": {},
   "outputs": [],
   "source": [
    "#Creating a dictionary for the model and pipelines.\n",
    "\n",
    "pipeDict = {0: 'Logistic Regression', 1: 'Decison Tree', 2: 'Random Forest'}\n",
    "\n",
    "#Fitting the three pipelines\n",
    "\n",
    "for mypipe in pipe:\n",
    "    mypipe.fit(X_train, y_train)"
   ]
  },
  {
   "cell_type": "markdown",
   "metadata": {},
   "source": [
    "Reference:\n",
    "\n",
    "Machine Learning Pipeline In Python | How to run pipeline in python machine learning. (n.d.). Www.youtube.com. https://www.youtube.com/watch?v=TLjMibCN6v4"
   ]
  }
 ],
 "metadata": {
  "kernelspec": {
   "display_name": "Python 3.8.10 64-bit",
   "language": "python",
   "name": "python3"
  },
  "language_info": {
   "codemirror_mode": {
    "name": "ipython",
    "version": 3
   },
   "file_extension": ".py",
   "mimetype": "text/x-python",
   "name": "python",
   "nbconvert_exporter": "python",
   "pygments_lexer": "ipython3",
   "version": "3.8.10"
  },
  "orig_nbformat": 4,
  "vscode": {
   "interpreter": {
    "hash": "916dbcbb3f70747c44a77c7bcd40155683ae19c65e1c03b4aa3499c5328201f1"
   }
  }
 },
 "nbformat": 4,
 "nbformat_minor": 2
}
